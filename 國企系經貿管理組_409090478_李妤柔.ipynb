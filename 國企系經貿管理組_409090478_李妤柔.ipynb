{
  "nbformat": 4,
  "nbformat_minor": 0,
  "metadata": {
    "colab": {
      "name": "國企系經貿管理組_409090478_李妤柔.ipynb",
      "provenance": [],
      "authorship_tag": "ABX9TyMs8CUjNPGbAqvxjPb1GfkY",
      "include_colab_link": true
    },
    "kernelspec": {
      "name": "python3",
      "display_name": "Python 3"
    },
    "language_info": {
      "name": "python"
    }
  },
  "cells": [
    {
      "cell_type": "markdown",
      "metadata": {
        "id": "view-in-github",
        "colab_type": "text"
      },
      "source": [
        "<a href=\"https://colab.research.google.com/github/fisssssssh/Introduction-to-Computers/blob/main/%E5%9C%8B%E4%BC%81%E7%B3%BB%E7%B6%93%E8%B2%BF%E7%AE%A1%E7%90%86%E7%B5%84_409090478_%E6%9D%8E%E5%A6%A4%E6%9F%94.ipynb\" target=\"_parent\"><img src=\"https://colab.research.google.com/assets/colab-badge.svg\" alt=\"Open In Colab\"/></a>"
      ]
    },
    {
      "cell_type": "markdown",
      "source": [
        "關係運算子"
      ],
      "metadata": {
        "id": "DCTCLOV6zRSI"
      }
    },
    {
      "cell_type": "code",
      "source": [
        "(2+11>5+22)"
      ],
      "metadata": {
        "colab": {
          "base_uri": "https://localhost:8080/"
        },
        "id": "oFDQ998VzUFk",
        "outputId": "65ac2eeb-9240-4d67-f546-ab5727e4a883"
      },
      "execution_count": 1,
      "outputs": [
        {
          "output_type": "execute_result",
          "data": {
            "text/plain": [
              "False"
            ]
          },
          "metadata": {},
          "execution_count": 1
        }
      ]
    },
    {
      "cell_type": "code",
      "source": [
        "(2+11!=5+22)"
      ],
      "metadata": {
        "colab": {
          "base_uri": "https://localhost:8080/"
        },
        "id": "OX4dEVyxziF8",
        "outputId": "243c2ce5-7087-4961-e0ae-431e5b03331a"
      },
      "execution_count": 2,
      "outputs": [
        {
          "output_type": "execute_result",
          "data": {
            "text/plain": [
              "True"
            ]
          },
          "metadata": {},
          "execution_count": 2
        }
      ]
    },
    {
      "cell_type": "code",
      "source": [
        "(2+11<=5+22)"
      ],
      "metadata": {
        "colab": {
          "base_uri": "https://localhost:8080/"
        },
        "id": "66ficR9Kzr1N",
        "outputId": "c71eeed1-f21b-4037-b616-33db0832a12f"
      },
      "execution_count": 3,
      "outputs": [
        {
          "output_type": "execute_result",
          "data": {
            "text/plain": [
              "True"
            ]
          },
          "metadata": {},
          "execution_count": 3
        }
      ]
    },
    {
      "cell_type": "markdown",
      "source": [
        "邏輯運算子"
      ],
      "metadata": {
        "id": "fVe0wt0kzyYR"
      }
    },
    {
      "cell_type": "code",
      "source": [
        "x=(2<11)and(2<5)\n",
        "print(x)"
      ],
      "metadata": {
        "colab": {
          "base_uri": "https://localhost:8080/"
        },
        "id": "Tkq2NtSYz0uc",
        "outputId": "c9347130-bc94-4636-ad19-8979dfcc5b01"
      },
      "execution_count": 4,
      "outputs": [
        {
          "output_type": "stream",
          "name": "stdout",
          "text": [
            "True\n"
          ]
        }
      ]
    },
    {
      "cell_type": "code",
      "source": [
        "x=(1>12)or(5<22)\n",
        "print(x)"
      ],
      "metadata": {
        "colab": {
          "base_uri": "https://localhost:8080/"
        },
        "id": "Ue6wcWMz0r5c",
        "outputId": "ae1eb223-af37-4f5f-b504-36341643d9f9"
      },
      "execution_count": 5,
      "outputs": [
        {
          "output_type": "stream",
          "name": "stdout",
          "text": [
            "True\n"
          ]
        }
      ]
    },
    {
      "cell_type": "code",
      "source": [
        "x=not(2==5)\n",
        "print(x)"
      ],
      "metadata": {
        "colab": {
          "base_uri": "https://localhost:8080/"
        },
        "id": "f6YnG4nQ07Nk",
        "outputId": "6513881e-347b-40ba-a51d-6b6385eecfed"
      },
      "execution_count": 8,
      "outputs": [
        {
          "output_type": "stream",
          "name": "stdout",
          "text": [
            "True\n"
          ]
        }
      ]
    }
  ]
}