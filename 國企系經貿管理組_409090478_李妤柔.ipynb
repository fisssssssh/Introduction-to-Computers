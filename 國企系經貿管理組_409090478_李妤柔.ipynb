{
  "nbformat": 4,
  "nbformat_minor": 0,
  "metadata": {
    "colab": {
      "name": "國企系經貿管理組_409090478_李妤柔.ipynb",
      "provenance": [],
      "authorship_tag": "ABX9TyPA+w67/mmFkRuWNr9Cj46Z",
      "include_colab_link": true
    },
    "kernelspec": {
      "name": "python3",
      "display_name": "Python 3"
    },
    "language_info": {
      "name": "python"
    }
  },
  "cells": [
    {
      "cell_type": "markdown",
      "metadata": {
        "id": "view-in-github",
        "colab_type": "text"
      },
      "source": [
        "<a href=\"https://colab.research.google.com/github/fisssssssh/Introduction-to-Computers/blob/main/%E5%9C%8B%E4%BC%81%E7%B3%BB%E7%B6%93%E8%B2%BF%E7%AE%A1%E7%90%86%E7%B5%84_409090478_%E6%9D%8E%E5%A6%A4%E6%9F%94.ipynb\" target=\"_parent\"><img src=\"https://colab.research.google.com/assets/colab-badge.svg\" alt=\"Open In Colab\"/></a>"
      ]
    },
    {
      "cell_type": "code",
      "execution_count": 2,
      "metadata": {
        "id": "jnXOf0c7qD3O",
        "colab": {
          "base_uri": "https://localhost:8080/"
        },
        "outputId": "c5ad6c79-f6e8-429c-95e3-673f6953c97c"
      },
      "outputs": [
        {
          "output_type": "stream",
          "name": "stdout",
          "text": [
            "請輸入身上有的金額300\n",
            "可購買手機\n",
            "可購買平板\n",
            "可購買電腦\n"
          ]
        }
      ],
      "source": [
        "money=int(input(\"請輸入身上有的金額\"))\n",
        "if(money<100):\n",
        " print(\"金額不足\")\n",
        "if(money>=100 or money<=200):\n",
        " print(\"可購買手機\")\n",
        "if(money>=200 or money<=300):\n",
        " print(\"可購買平板\")\n",
        "if(money>=300 or money<=400):\n",
        " print(\"可購買電腦\")"
      ]
    }
  ]
}