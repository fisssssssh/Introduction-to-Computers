{
  "nbformat": 4,
  "nbformat_minor": 0,
  "metadata": {
    "colab": {
      "name": "國企系經貿管理組_409090478_李妤柔.ipynb",
      "provenance": [],
      "authorship_tag": "ABX9TyN3i0E9e6gr3r06YP/1rraz",
      "include_colab_link": true
    },
    "kernelspec": {
      "name": "python3",
      "display_name": "Python 3"
    },
    "language_info": {
      "name": "python"
    }
  },
  "cells": [
    {
      "cell_type": "markdown",
      "metadata": {
        "id": "view-in-github",
        "colab_type": "text"
      },
      "source": [
        "<a href=\"https://colab.research.google.com/github/fisssssssh/Introduction-to-Computers/blob/main/%E5%9C%8B%E4%BC%81%E7%B3%BB%E7%B6%93%E8%B2%BF%E7%AE%A1%E7%90%86%E7%B5%84_409090478_%E6%9D%8E%E5%A6%A4%E6%9F%94.ipynb\" target=\"_parent\"><img src=\"https://colab.research.google.com/assets/colab-badge.svg\" alt=\"Open In Colab\"/></a>"
      ]
    },
    {
      "cell_type": "code",
      "execution_count": 12,
      "metadata": {
        "id": "iUNPH5SAI5g3"
      },
      "outputs": [],
      "source": [
        "Player=['Curry','Green','Durant','Looney','Thompson']"
      ]
    },
    {
      "cell_type": "code",
      "source": [
        "Fraction=[30,5,22,6,28]"
      ],
      "metadata": {
        "id": "1mXF8uZqJZnX"
      },
      "execution_count": 3,
      "outputs": []
    },
    {
      "cell_type": "code",
      "source": [
        "print(\"今天最高的三個得分\",(Fraction[-5],Fraction[-3],Fraction[-1]),\"球員分別為\",(Player[-5],Player[-3],Player[-1]))"
      ],
      "metadata": {
        "colab": {
          "base_uri": "https://localhost:8080/"
        },
        "id": "v1aP7U3sN_BA",
        "outputId": "072d4cae-eb11-4411-e0c6-3f038885e75e"
      },
      "execution_count": 31,
      "outputs": [
        {
          "output_type": "stream",
          "name": "stdout",
          "text": [
            "今天最高的三個得分 (30, 22, 28) 球員分別為 ('Curry', 'Durant', 'Thompson')\n"
          ]
        }
      ]
    },
    {
      "cell_type": "code",
      "source": [
        "print(\"今天最低的兩個得分\",(Fraction[-4],Fraction[-2]),\"球員分別為\",(Player[-4],Player[-2]))"
      ],
      "metadata": {
        "colab": {
          "base_uri": "https://localhost:8080/"
        },
        "id": "GJN1bd3cOYJ6",
        "outputId": "a2e1ffce-4d41-414f-db68-051c7c1a2619"
      },
      "execution_count": 32,
      "outputs": [
        {
          "output_type": "stream",
          "name": "stdout",
          "text": [
            "今天最低的兩個得分 (5, 6) 球員分別為 ('Green', 'Looney')\n"
          ]
        }
      ]
    },
    {
      "cell_type": "code",
      "source": [
        "print(\"今天最高得分為\",Player[-5],\"分數為\",max(Fraction),\"分\")"
      ],
      "metadata": {
        "colab": {
          "base_uri": "https://localhost:8080/"
        },
        "id": "A-RdlcL8JiiR",
        "outputId": "6fc648ce-803d-4c07-c469-d100f971b605"
      },
      "execution_count": 21,
      "outputs": [
        {
          "output_type": "stream",
          "name": "stdout",
          "text": [
            "今天最高得分為 Curry 分數為 30 分\n"
          ]
        }
      ]
    },
    {
      "cell_type": "code",
      "source": [
        "print(\"今天最低得分為\",Player[-4],\"分數為\",min(Fraction),\"分\")"
      ],
      "metadata": {
        "colab": {
          "base_uri": "https://localhost:8080/"
        },
        "id": "vNdO7DbONrb1",
        "outputId": "4650cc14-3a8d-498f-89db-521a93b5f742"
      },
      "execution_count": 22,
      "outputs": [
        {
          "output_type": "stream",
          "name": "stdout",
          "text": [
            "今天最低得分為 Green 分數為 5 分\n"
          ]
        }
      ]
    }
  ]
}