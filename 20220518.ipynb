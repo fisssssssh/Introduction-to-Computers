{
  "nbformat": 4,
  "nbformat_minor": 0,
  "metadata": {
    "colab": {
      "name": "20220518.ipynb",
      "provenance": [],
      "authorship_tag": "ABX9TyMai1i82n8ZPqWO8psnnS24",
      "include_colab_link": true
    },
    "kernelspec": {
      "name": "python3",
      "display_name": "Python 3"
    },
    "language_info": {
      "name": "python"
    }
  },
  "cells": [
    {
      "cell_type": "markdown",
      "metadata": {
        "id": "view-in-github",
        "colab_type": "text"
      },
      "source": [
        "<a href=\"https://colab.research.google.com/github/fisssssssh/Introduction-to-Computers/blob/main/20220518.ipynb\" target=\"_parent\"><img src=\"https://colab.research.google.com/assets/colab-badge.svg\" alt=\"Open In Colab\"/></a>"
      ]
    },
    {
      "cell_type": "code",
      "execution_count": null,
      "metadata": {
        "colab": {
          "base_uri": "https://localhost:8080/"
        },
        "id": "DsQhaZSIuzrJ",
        "outputId": "0a5e2d47-3252-417f-fe1b-cdebd1a48ffc"
      },
      "outputs": [
        {
          "output_type": "stream",
          "name": "stdout",
          "text": [
            "[1, 3, 5, 7, 9]\n"
          ]
        }
      ],
      "source": [
        "h=range(1,10,2)\n",
        "print(list(h))"
      ]
    },
    {
      "cell_type": "code",
      "source": [
        "i=range(10,0,-2)\n",
        "print(list(i))"
      ],
      "metadata": {
        "colab": {
          "base_uri": "https://localhost:8080/"
        },
        "id": "BE_PhqYQvug5",
        "outputId": "d5795c25-34d7-4609-bcae-db6f78f01a5c"
      },
      "execution_count": null,
      "outputs": [
        {
          "output_type": "stream",
          "name": "stdout",
          "text": [
            "[10, 8, 6, 4, 2]\n"
          ]
        }
      ]
    },
    {
      "cell_type": "code",
      "source": [
        "for n in range(10):\n",
        "  print(list(i))"
      ],
      "metadata": {
        "colab": {
          "base_uri": "https://localhost:8080/"
        },
        "id": "4cNkiRlev3RC",
        "outputId": "cc24c69a-568c-45e6-e0f3-7fd53ca46c6b"
      },
      "execution_count": null,
      "outputs": [
        {
          "output_type": "stream",
          "name": "stdout",
          "text": [
            "[10, 8, 6, 4, 2]\n",
            "[10, 8, 6, 4, 2]\n",
            "[10, 8, 6, 4, 2]\n",
            "[10, 8, 6, 4, 2]\n",
            "[10, 8, 6, 4, 2]\n",
            "[10, 8, 6, 4, 2]\n",
            "[10, 8, 6, 4, 2]\n",
            "[10, 8, 6, 4, 2]\n",
            "[10, 8, 6, 4, 2]\n",
            "[10, 8, 6, 4, 2]\n"
          ]
        }
      ]
    },
    {
      "cell_type": "code",
      "source": [
        "for n in range(10):\n",
        "  print(n,end=\",\")"
      ],
      "metadata": {
        "colab": {
          "base_uri": "https://localhost:8080/"
        },
        "id": "wL4CD3fLwDgn",
        "outputId": "bf5358ef-921b-4818-dad0-149dd2263ad1"
      },
      "execution_count": null,
      "outputs": [
        {
          "output_type": "stream",
          "name": "stdout",
          "text": [
            "0,1,2,3,4,5,6,7,8,9,"
          ]
        }
      ]
    },
    {
      "cell_type": "code",
      "source": [
        "test=(int(input(\"請輸入一個正整數\")))\n",
        "for m in range(1,test+1):\n",
        "   print(m,end=\",\")\n"
      ],
      "metadata": {
        "id": "EsmHfK3uwKaS",
        "colab": {
          "base_uri": "https://localhost:8080/"
        },
        "outputId": "fde4ae96-8cc2-4680-9a85-48e65e0da4cc"
      },
      "execution_count": 5,
      "outputs": [
        {
          "output_type": "stream",
          "name": "stdout",
          "text": [
            "請輸入一個正整數10\n",
            "1,2,3,4,5,6,7,8,9,10,"
          ]
        }
      ]
    },
    {
      "cell_type": "code",
      "source": [
        "test=(int(input(\"請輸入一個正整數\")))\n",
        "for x in range(1,test+1,2):\n",
        "   print(x,end=\",\")\n"
      ],
      "metadata": {
        "colab": {
          "base_uri": "https://localhost:8080/"
        },
        "id": "VEWfgAZk0ciK",
        "outputId": "fe5227d3-22eb-4ca5-f350-2a70e7850b53"
      },
      "execution_count": 6,
      "outputs": [
        {
          "output_type": "stream",
          "name": "stdout",
          "text": [
            "請輸入一個正整數10\n",
            "1,3,5,7,9,"
          ]
        }
      ]
    },
    {
      "cell_type": "code",
      "source": [
        "test=int(input(\"請輸入一個正整數：\"))\n",
        "sum=0\n",
        "for n in range(test+1):\n",
        "  sum=sum+n\n",
        "print(\"1到\",n,\"的整數和為\",sum)"
      ],
      "metadata": {
        "colab": {
          "base_uri": "https://localhost:8080/"
        },
        "id": "BgYA_ICW06gE",
        "outputId": "416d4655-38c7-4fd0-a42c-2f935a34521b"
      },
      "execution_count": 7,
      "outputs": [
        {
          "output_type": "stream",
          "name": "stdout",
          "text": [
            "請輸入一個正整數：10\n",
            "1到 10 的整數和為 55\n"
          ]
        }
      ]
    },
    {
      "cell_type": "code",
      "source": [
        "test=int(input(\"請輸入一個正整數：\"))\n",
        "sum=0\n",
        "for n in range(test+1):\n",
        "  sum=sum+n\n",
        "  print(\"1到\",n,\"的整數和為\",sum,\"\\t\", sep =\"\", end =\"\")"
      ],
      "metadata": {
        "colab": {
          "base_uri": "https://localhost:8080/"
        },
        "id": "jldIBIf1J9GE",
        "outputId": "a1b12d0e-5e42-4c73-9792-7f17a3b54d1f"
      },
      "execution_count": 8,
      "outputs": [
        {
          "output_type": "stream",
          "name": "stdout",
          "text": [
            "請輸入一個正整數：10\n",
            "1到0的整數和為0\t1到1的整數和為1\t1到2的整數和為3\t1到3的整數和為6\t1到4的整數和為10\t1到5的整數和為15\t1到6的整數和為21\t1到7的整數和為28\t1到8的整數和為36\t1到9的整數和為45\t1到10的整數和為55\t"
          ]
        }
      ]
    }
  ]
}