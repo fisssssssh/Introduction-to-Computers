{
  "nbformat": 4,
  "nbformat_minor": 0,
  "metadata": {
    "colab": {
      "name": "20220525.ipynb",
      "provenance": [],
      "authorship_tag": "ABX9TyOLmQ/DyXSP8/buz00yzt+L",
      "include_colab_link": true
    },
    "kernelspec": {
      "name": "python3",
      "display_name": "Python 3"
    },
    "language_info": {
      "name": "python"
    }
  },
  "cells": [
    {
      "cell_type": "markdown",
      "metadata": {
        "id": "view-in-github",
        "colab_type": "text"
      },
      "source": [
        "<a href=\"https://colab.research.google.com/github/fisssssssh/Introduction-to-Computers/blob/main/20220525.ipynb\" target=\"_parent\"><img src=\"https://colab.research.google.com/assets/colab-badge.svg\" alt=\"Open In Colab\"/></a>"
      ]
    },
    {
      "cell_type": "code",
      "execution_count": 1,
      "metadata": {
        "colab": {
          "base_uri": "https://localhost:8080/"
        },
        "id": "ezDeV13Jf0RG",
        "outputId": "33920a87-23f1-4007-892e-8d78c77c0aa2"
      },
      "outputs": [
        {
          "output_type": "stream",
          "name": "stdout",
          "text": [
            "test\n"
          ]
        }
      ],
      "source": [
        "print(\"test\")"
      ]
    },
    {
      "cell_type": "code",
      "source": [
        "sum=0\n",
        "test=int(input(\"請輸入一個正整數\"))\n",
        "for n in range(1,test+1):\n",
        "  sum=sum+n\n",
        "print(\"1到\",test,'的整數合為',sum)"
      ],
      "metadata": {
        "colab": {
          "base_uri": "https://localhost:8080/"
        },
        "id": "1L9m6TKtArVY",
        "outputId": "76923156-0895-4473-ee6d-1e67c1fc0e88"
      },
      "execution_count": 2,
      "outputs": [
        {
          "output_type": "stream",
          "name": "stdout",
          "text": [
            "請輸入一個正整數50\n",
            "1到 50 的整數合為 1275\n"
          ]
        }
      ]
    },
    {
      "cell_type": "code",
      "source": [
        "sum=0\n",
        "test=int(input(\"請輸入一個正整數\"))\n",
        "for n in range(1,test+1):\n",
        "  sum=sum+n\n",
        "print(\"1到\",test,'的整數合為',sum)"
      ],
      "metadata": {
        "colab": {
          "base_uri": "https://localhost:8080/"
        },
        "id": "wueK8aKfAwnm",
        "outputId": "955fb2f6-d8ef-4b50-e5e3-d4265f945b79"
      },
      "execution_count": 3,
      "outputs": [
        {
          "output_type": "stream",
          "name": "stdout",
          "text": [
            "請輸入一個正整數10\n",
            "1到 10 的整數合為 55\n"
          ]
        }
      ]
    },
    {
      "cell_type": "code",
      "source": [
        "sum=0\n",
        "test=int(input(\"請輸入一個正整數\"))\n",
        "for m in range(1,test+1):\n",
        "  sum=sum+m\n",
        "  print(\"1到\",test,\"的整數合為\",sum)"
      ],
      "metadata": {
        "colab": {
          "base_uri": "https://localhost:8080/"
        },
        "id": "fu9HgSvMA4nT",
        "outputId": "de33d162-117b-4bd7-a7dd-a267022e6884"
      },
      "execution_count": 4,
      "outputs": [
        {
          "output_type": "stream",
          "name": "stdout",
          "text": [
            "請輸入一個正整數50\n",
            "1到 50 的整數合為 1\n",
            "1到 50 的整數合為 3\n",
            "1到 50 的整數合為 6\n",
            "1到 50 的整數合為 10\n",
            "1到 50 的整數合為 15\n",
            "1到 50 的整數合為 21\n",
            "1到 50 的整數合為 28\n",
            "1到 50 的整數合為 36\n",
            "1到 50 的整數合為 45\n",
            "1到 50 的整數合為 55\n",
            "1到 50 的整數合為 66\n",
            "1到 50 的整數合為 78\n",
            "1到 50 的整數合為 91\n",
            "1到 50 的整數合為 105\n",
            "1到 50 的整數合為 120\n",
            "1到 50 的整數合為 136\n",
            "1到 50 的整數合為 153\n",
            "1到 50 的整數合為 171\n",
            "1到 50 的整數合為 190\n",
            "1到 50 的整數合為 210\n",
            "1到 50 的整數合為 231\n",
            "1到 50 的整數合為 253\n",
            "1到 50 的整數合為 276\n",
            "1到 50 的整數合為 300\n",
            "1到 50 的整數合為 325\n",
            "1到 50 的整數合為 351\n",
            "1到 50 的整數合為 378\n",
            "1到 50 的整數合為 406\n",
            "1到 50 的整數合為 435\n",
            "1到 50 的整數合為 465\n",
            "1到 50 的整數合為 496\n",
            "1到 50 的整數合為 528\n",
            "1到 50 的整數合為 561\n",
            "1到 50 的整數合為 595\n",
            "1到 50 的整數合為 630\n",
            "1到 50 的整數合為 666\n",
            "1到 50 的整數合為 703\n",
            "1到 50 的整數合為 741\n",
            "1到 50 的整數合為 780\n",
            "1到 50 的整數合為 820\n",
            "1到 50 的整數合為 861\n",
            "1到 50 的整數合為 903\n",
            "1到 50 的整數合為 946\n",
            "1到 50 的整數合為 990\n",
            "1到 50 的整數合為 1035\n",
            "1到 50 的整數合為 1081\n",
            "1到 50 的整數合為 1128\n",
            "1到 50 的整數合為 1176\n",
            "1到 50 的整數合為 1225\n",
            "1到 50 的整數合為 1275\n"
          ]
        }
      ]
    },
    {
      "cell_type": "code",
      "source": [
        "for j in range(1,5):\n",
        "  print(j)\n",
        "  for i in range(1,3):\n",
        "   k=i*j\n",
        "   print(j,\"*\",i,'=',k)"
      ],
      "metadata": {
        "colab": {
          "base_uri": "https://localhost:8080/"
        },
        "id": "gvAaEXkeA_bk",
        "outputId": "1bd7a861-692b-42f5-a8bd-f7f8172e1616"
      },
      "execution_count": 8,
      "outputs": [
        {
          "output_type": "stream",
          "name": "stdout",
          "text": [
            "1\n",
            "1 * 1 = 1\n",
            "1 * 2 = 2\n",
            "2\n",
            "2 * 1 = 2\n",
            "2 * 2 = 4\n",
            "3\n",
            "3 * 1 = 3\n",
            "3 * 2 = 6\n",
            "4\n",
            "4 * 1 = 4\n",
            "4 * 2 = 8\n"
          ]
        }
      ]
    },
    {
      "cell_type": "code",
      "source": [
        "for g in range(1,6):\n",
        "  print(g)\n",
        "  for k in range(1,3):\n",
        "   l=g*k\n",
        "   print(g,\"*\",i,\"=\",l)"
      ],
      "metadata": {
        "colab": {
          "base_uri": "https://localhost:8080/"
        },
        "id": "BqgwYPicBBuU",
        "outputId": "2ccd45bc-eedc-4f53-a06f-178bb8346825"
      },
      "execution_count": 9,
      "outputs": [
        {
          "output_type": "stream",
          "name": "stdout",
          "text": [
            "1\n",
            "1 * 2 = 1\n",
            "1 * 2 = 2\n",
            "2\n",
            "2 * 2 = 2\n",
            "2 * 2 = 4\n",
            "3\n",
            "3 * 2 = 3\n",
            "3 * 2 = 6\n",
            "4\n",
            "4 * 2 = 4\n",
            "4 * 2 = 8\n",
            "5\n",
            "5 * 2 = 5\n",
            "5 * 2 = 10\n"
          ]
        }
      ]
    },
    {
      "cell_type": "code",
      "source": [
        "for f in range(1,5):\n",
        "  if(f==4):\n",
        "    break\n",
        "  print(f,end=' ')"
      ],
      "metadata": {
        "colab": {
          "base_uri": "https://localhost:8080/"
        },
        "id": "hnlEyii4BF2m",
        "outputId": "1fd84a15-1cb5-431b-b154-2729aaccb38b"
      },
      "execution_count": 5,
      "outputs": [
        {
          "output_type": "stream",
          "name": "stdout",
          "text": [
            "1 2 3 "
          ]
        }
      ]
    },
    {
      "cell_type": "code",
      "source": [
        "count=0\n",
        "for string in'hello!':\n",
        "  count+=1\n",
        "  if string=='o':\n",
        "    break\n",
        "  print(string)\n",
        "print('迴圈結束')\n",
        "print('迴圈進行了 %d 次' %count)"
      ],
      "metadata": {
        "colab": {
          "base_uri": "https://localhost:8080/"
        },
        "id": "mH9Ag3klBew4",
        "outputId": "5fb3f950-eb01-4935-cb1a-f7fb555f9848"
      },
      "execution_count": 14,
      "outputs": [
        {
          "output_type": "stream",
          "name": "stdout",
          "text": [
            "h\n",
            "e\n",
            "l\n",
            "l\n",
            "迴圈結束\n",
            "迴圈進行了 5 次\n"
          ]
        }
      ]
    },
    {
      "cell_type": "code",
      "source": [
        "count=0\n",
        "for string in'測試看看!':\n",
        "  count+=1\n",
        "  if string=='看':\n",
        "    break\n",
        "  print(string)\n",
        "print('迴圈結束')\n",
        "print('迴圈進行了 %d 次' %count)"
      ],
      "metadata": {
        "colab": {
          "base_uri": "https://localhost:8080/"
        },
        "id": "1S3uAskYBiqd",
        "outputId": "280a90c3-ca50-4501-dbfa-c909a013ab04"
      },
      "execution_count": 15,
      "outputs": [
        {
          "output_type": "stream",
          "name": "stdout",
          "text": [
            "測\n",
            "試\n",
            "迴圈結束\n",
            "迴圈進行了 3 次\n"
          ]
        }
      ]
    },
    {
      "cell_type": "code",
      "source": [
        "for i in range(2, 10):\n",
        "  for j in range(1, 10):\n",
        "    k=i * j\n",
        "    print(\"%d*%d=%2d\"%(i,j,k),end=\"\")\n",
        "  print()"
      ],
      "metadata": {
        "colab": {
          "base_uri": "https://localhost:8080/"
        },
        "id": "KyWBVmToBrZ_",
        "outputId": "a0fecdce-e9bd-4520-f847-61aafa5deb82"
      },
      "execution_count": 16,
      "outputs": [
        {
          "output_type": "stream",
          "name": "stdout",
          "text": [
            "2*1= 22*2= 42*3= 62*4= 82*5=102*6=122*7=142*8=162*9=18\n",
            "3*1= 33*2= 63*3= 93*4=123*5=153*6=183*7=213*8=243*9=27\n",
            "4*1= 44*2= 84*3=124*4=164*5=204*6=244*7=284*8=324*9=36\n",
            "5*1= 55*2=105*3=155*4=205*5=255*6=305*7=355*8=405*9=45\n",
            "6*1= 66*2=126*3=186*4=246*5=306*6=366*7=426*8=486*9=54\n",
            "7*1= 77*2=147*3=217*4=287*5=357*6=427*7=497*8=567*9=63\n",
            "8*1= 88*2=168*3=248*4=328*5=408*6=488*7=568*8=648*9=72\n",
            "9*1= 99*2=189*3=279*4=369*5=459*6=549*7=639*8=729*9=81\n"
          ]
        }
      ]
    },
    {
      "cell_type": "code",
      "source": [
        "x=int(input(\"請輸入a的值:\"))\n",
        "y=int(input(\"請輸入b的值:\"))\n",
        "if x>y:\n",
        "    c=x\n",
        "else:\n",
        "    c=y\n",
        "m=(x+1)*(y+1)\n",
        "for k in range(c,m):\n",
        "    if k%x==0 and k%y==10:\n",
        "        print(x,'和',y,'的最小公倍數=',k)\n",
        "        break"
      ],
      "metadata": {
        "colab": {
          "base_uri": "https://localhost:8080/"
        },
        "id": "O-DRV6SIBxqo",
        "outputId": "3c5bf495-67ee-4ebb-84cc-9948f9630b62"
      },
      "execution_count": 19,
      "outputs": [
        {
          "name": "stdout",
          "output_type": "stream",
          "text": [
            "請輸入a的值:9\n",
            "請輸入b的值:15\n"
          ]
        }
      ]
    },
    {
      "cell_type": "code",
      "source": [
        "n=int(input('請輸入正整數:'))\n",
        "for i in range(1,n+1):\n",
        "  if i%5==0:\n",
        "    continue\n",
        "  print(i,'',end='')"
      ],
      "metadata": {
        "colab": {
          "base_uri": "https://localhost:8080/"
        },
        "id": "D_ZOTNXyC0M3",
        "outputId": "cd02d1de-bc01-46db-fc0c-afa4a982a145"
      },
      "execution_count": 21,
      "outputs": [
        {
          "output_type": "stream",
          "name": "stdout",
          "text": [
            "請輸入正整數:12\n",
            "1 2 3 4 6 7 8 9 11 12 "
          ]
        }
      ]
    },
    {
      "cell_type": "code",
      "source": [
        "n=int(input('請輸入正整數:'))\n",
        "for i in range(1,n+1):\n",
        "  if i%5==0:\n",
        "    continue\n",
        "  print(i,'',end='')"
      ],
      "metadata": {
        "colab": {
          "base_uri": "https://localhost:8080/"
        },
        "id": "wjJqJmXTC462",
        "outputId": "d9d76a65-1158-40a6-b080-2075c3c5f01d"
      },
      "execution_count": 20,
      "outputs": [
        {
          "output_type": "stream",
          "name": "stdout",
          "text": [
            "請輸入正整數:21\n",
            "1 2 3 4 6 7 8 9 11 12 13 14 16 17 18 19 21 "
          ]
        }
      ]
    }
  ]
}