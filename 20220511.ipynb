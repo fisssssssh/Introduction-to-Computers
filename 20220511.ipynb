{
  "nbformat": 4,
  "nbformat_minor": 0,
  "metadata": {
    "colab": {
      "name": "20220511.ipynb",
      "provenance": [],
      "authorship_tag": "ABX9TyMrTMIJcA3Vhj9/2DfQe8Da",
      "include_colab_link": true
    },
    "kernelspec": {
      "name": "python3",
      "display_name": "Python 3"
    },
    "language_info": {
      "name": "python"
    }
  },
  "cells": [
    {
      "cell_type": "markdown",
      "metadata": {
        "id": "view-in-github",
        "colab_type": "text"
      },
      "source": [
        "<a href=\"https://colab.research.google.com/github/fisssssssh/Introduction-to-Computers/blob/main/20220511.ipynb\" target=\"_parent\"><img src=\"https://colab.research.google.com/assets/colab-badge.svg\" alt=\"Open In Colab\"/></a>"
      ]
    },
    {
      "cell_type": "code",
      "execution_count": null,
      "metadata": {
        "colab": {
          "base_uri": "https://localhost:8080/"
        },
        "id": "D52gOVSVn88f",
        "outputId": "12a8bdc2-f733-4436-f605-0a8793e70031"
      },
      "outputs": [
        {
          "output_type": "stream",
          "name": "stdout",
          "text": [
            "test\n"
          ]
        }
      ],
      "source": [
        "print(\"test\")"
      ]
    },
    {
      "cell_type": "code",
      "source": [
        "temp=float(input(\"請輸入你的體溫\"))\n",
        "if temp>=37.5:\n",
        "   print(\"體溫過高！\")\n",
        "elif temp>=37 and temp<=37.4:\n",
        "   print(\"體溫略高！\")\n",
        "elif temp>=34 and temp<36.9:\n",
        "   print(\"體溫正常！\")\n",
        "else:\n",
        "   print(\"體溫異常，請重新量測\")"
      ],
      "metadata": {
        "colab": {
          "base_uri": "https://localhost:8080/"
        },
        "id": "6Pg5il7mokQF",
        "outputId": "eb6ff3d4-b8dd-4a56-f0f8-3bfc9d65151f"
      },
      "execution_count": null,
      "outputs": [
        {
          "output_type": "stream",
          "name": "stdout",
          "text": [
            "請輸入你的體溫37.5\n",
            "體溫過高！\n"
          ]
        }
      ]
    },
    {
      "cell_type": "code",
      "source": [
        "money=int(input(\"請輸入購物金額\"))\n",
        "if(money>=10000):\n",
        "    if(money>=100000):\n",
        "        print(\"八折\",money*0.8,end=\"元\\n\")\n",
        "    elif(money>=50000):\n",
        "        print(\"八五折\",money*0.85,end=\"元\\n\")\n",
        "    elif(money>=30000):\n",
        "        print(\"九折\",money*0.9,end=\"元\\n\")\n",
        "    else:\n",
        "        print(\"九五折\",money*0.95,end=\"元\\n\")\n",
        "\n",
        "else:\n",
        "  print(\"沒打折\",money,end=\"元\\n\")"
      ],
      "metadata": {
        "colab": {
          "base_uri": "https://localhost:8080/"
        },
        "id": "YID6-tFTqY3x",
        "outputId": "8cfbc064-d3c2-400b-bb11-72b177568a45"
      },
      "execution_count": null,
      "outputs": [
        {
          "output_type": "stream",
          "name": "stdout",
          "text": [
            "請輸入購物金額50000\n",
            "八五折 42500.0元\n"
          ]
        }
      ]
    }
  ]
}